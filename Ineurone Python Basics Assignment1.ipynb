{
 "cells": [
  {
   "cell_type": "markdown",
   "id": "7ad24a30",
   "metadata": {},
   "source": [
    "1. In the below elements which of them are values or an expression? eg:- values can be\n",
    "integer or string and expressions will be mathematical operators.\n",
    "*\n",
    "&#39;hello&#39;\n",
    "-87.8\n",
    "-\n",
    "/\n",
    "+\n",
    "6\n",
    "\n",
    "2. What is the difference between string and variable?\n",
    "\n",
    "3. Describe three different data types.\n",
    "\n",
    "4. What is an expression made up of? What do all expressions do?\n",
    "5. This assignment statements, like spam = 10. What is the difference between an\n",
    "expression and a statement?\n",
    "6. After running the following code, what does the variable bacon contain?\n",
    "bacon = 22\n",
    "bacon + 1\n",
    "\n",
    "7. What should the values of the following two terms be?\n",
    "'spam'+'spamspam'\n",
    "'spam'*3\n",
    "\n",
    "8. Why is eggs a valid variable name while 100 is invalid?\n",
    "\n",
    "9. What three functions can be used to get the integer, floating-point number, or string\n",
    "version of a value?\n",
    "10. Why does this expression cause an error? How can you fix it?\n",
    "&#39;I have eaten &#39; + 99 + &#39; burritos.&#39;"
   ]
  },
  {
   "cell_type": "markdown",
   "id": "7e6a2193",
   "metadata": {},
   "source": [
    "## 1. In the below elements which of them are values or an expression? eg:- values can be integer or string and expressions will be mathematical operators.\n",
    "* 'hello' -87.8 - / + 6"
   ]
  },
  {
   "cell_type": "markdown",
   "id": "11940726",
   "metadata": {},
   "source": [
    "IN the given expression values are: 'hello', -87.8, 6\n",
    "    the operators are: - / +\n",
    "    \n",
    "    Note that -ve sign before 87.7 is representing the value only "
   ]
  },
  {
   "cell_type": "markdown",
   "id": "bc6c71a2",
   "metadata": {},
   "source": [
    "## 2. What is the difference between string and variable?"
   ]
  },
  {
   "cell_type": "markdown",
   "id": "d58700de",
   "metadata": {},
   "source": [
    "A string is a information stored in the RAM and a variable is the name assigned to the address inwhich information or data is stored. For example:\n",
    "    \n",
    "    name =\"Aaditya\"\n",
    "    \n",
    "    Here \"Aaditya\" is the data or information stored in the memory and 'name' is the name assigned to the memory space which holds this data. Thereforr \"Aaditya\" is a string and \"name\" is a variable"
   ]
  },
  {
   "cell_type": "markdown",
   "id": "afd6abb9",
   "metadata": {},
   "source": [
    "## 3. Describe three different data types."
   ]
  },
  {
   "attachments": {},
   "cell_type": "markdown",
   "id": "d20f184d",
   "metadata": {},
   "source": [
    "THree different data types are : int, float and bool. NOw we explain what they mean:\n",
    "        \n",
    "        int:  int means integer type data. THis means any data that is a whole number whether positive or negative is an integer. Example: 5, -5, 2, -2 etc\n",
    "        \n",
    "        float: Float is also a numberic data only difference from int being it can be decimal also. IT does not necessarily need to be a whole number. Example: 2.33, 3.42 etc. Even integers can be stored in the form of float(). Example: 2.00, 3.00,5.00. THey can also be negative. Example: -5.2, -6.00 etc.\n",
    "        \n",
    "        Bool: Bool or Boolean data is a logical \"yes\" or \"no\" kind of data. It comes in two forms only - True and False. It is an outcome of comparision operations. And it is also a checking point of a condition given by the coder or given by default. \n",
    "        Example: a) as a comparision outcome: when we want to check if 2 is equal to 3 we write: 2==3. THe outcome will be false. If we check for 2 not equal to  3 (2!=3) the outcome will be True\n",
    "                 b) As a checking point of a condition: in python the code a = 5 implies 'a' is of type int variable because it stores 5 (int) data. if we check for type like this: type(a) == int outcome will be True \n",
    "                \n",
    "                 "
   ]
  },
  {
   "attachments": {
    "Assignment%20Python%20Basics%201.png": {
     "image/png": "[encoded data removed]"
    }
   },
   "cell_type": "markdown",
   "id": "49e9cf86",
   "metadata": {},
   "source": [
    "![Assignment%20Python%20Basics%201.png](attachment:Assignment%20Python%20Basics%201.png)\n"
   ]
  },
  {
   "cell_type": "markdown",
   "id": "d0c85341",
   "metadata": {},
   "source": [
    "## 4. What is an expression made up of? What do all expressions do?"
   ]
  },
  {
   "cell_type": "markdown",
   "id": "421c0ec6",
   "metadata": {},
   "source": [
    "An expression is a combination of values and/variables combined with operators designed with an aim to output some other outcome\n",
    "\n",
    "Example: "
   ]
  },
  {
   "cell_type": "code",
   "execution_count": 1,
   "id": "926486f5",
   "metadata": {},
   "outputs": [
    {
     "name": "stdout",
     "output_type": "stream",
     "text": [
      "(0.8571428571428571+0.17142857142857143j)\n"
     ]
    }
   ],
   "source": [
    "a,b,c,d,e = 5, 2.53,5+1j,7,5*2*1\n",
    "\n",
    "#Expression:\n",
    "\n",
    "z = ((a+d)*c)/(d*e)\n",
    "print(z)\n"
   ]
  },
  {
   "cell_type": "markdown",
   "id": "0ea0f5fc",
   "metadata": {},
   "source": [
    "## 5. This assignment statements, like spam = 10. What is the difference between an expression and a statement?"
   ]
  },
  {
   "cell_type": "markdown",
   "id": "9b9ac9af",
   "metadata": {},
   "source": [
    "A statement is a command line or calling operation that is not intended to derive some value from given data//variable. An expreession is made up of variable and/or data alongside operator to derive some value.\n",
    "\n",
    "\n",
    "Example of statement are: control flow statements (if, for, while), calling statements (return, ), method calls (print, append) etc.\n",
    "Example of Expression: 2+2, 3%2, 5-77 etc."
   ]
  },
  {
   "cell_type": "markdown",
   "id": "7dbbdaff",
   "metadata": {},
   "source": [
    "## 6. After running the following code, what does the variable bacon contain?\n",
    "bacon = 22\n",
    "bacon + 1"
   ]
  },
  {
   "cell_type": "markdown",
   "id": "d02d89b0",
   "metadata": {},
   "source": [
    "When we do bacon = 22 the value 22 assigned to the variable bacon and a specific memory location. WHen we do bacon+1 the value assigned to bacon remains same that is 22. The value 22+1 or 23 is stored in some other temporary memory location. You can check the memory location to confirm the same."
   ]
  },
  {
   "cell_type": "code",
   "execution_count": 2,
   "id": "08ed9d28",
   "metadata": {},
   "outputs": [],
   "source": [
    "bacon = 22"
   ]
  },
  {
   "cell_type": "code",
   "execution_count": 3,
   "id": "b9eee8ff",
   "metadata": {},
   "outputs": [
    {
     "data": {
      "text/plain": [
       "22"
      ]
     },
     "execution_count": 3,
     "metadata": {},
     "output_type": "execute_result"
    }
   ],
   "source": [
    "bacon"
   ]
  },
  {
   "cell_type": "code",
   "execution_count": 4,
   "id": "883918d6",
   "metadata": {},
   "outputs": [
    {
     "data": {
      "text/plain": [
       "23"
      ]
     },
     "execution_count": 4,
     "metadata": {},
     "output_type": "execute_result"
    }
   ],
   "source": [
    "bacon + 1"
   ]
  },
  {
   "cell_type": "code",
   "execution_count": 5,
   "id": "708fb6d2",
   "metadata": {},
   "outputs": [
    {
     "data": {
      "text/plain": [
       "22"
      ]
     },
     "execution_count": 5,
     "metadata": {},
     "output_type": "execute_result"
    }
   ],
   "source": [
    "bacon"
   ]
  },
  {
   "cell_type": "code",
   "execution_count": 6,
   "id": "2763df96",
   "metadata": {},
   "outputs": [
    {
     "data": {
      "text/plain": [
       "2059159956432"
      ]
     },
     "execution_count": 6,
     "metadata": {},
     "output_type": "execute_result"
    }
   ],
   "source": [
    "id(bacon)"
   ]
  },
  {
   "cell_type": "code",
   "execution_count": 7,
   "id": "26d0f565",
   "metadata": {},
   "outputs": [
    {
     "data": {
      "text/plain": [
       "2059159956464"
      ]
     },
     "execution_count": 7,
     "metadata": {},
     "output_type": "execute_result"
    }
   ],
   "source": [
    "id(bacon+1)"
   ]
  },
  {
   "cell_type": "code",
   "execution_count": 8,
   "id": "d06c04cb",
   "metadata": {},
   "outputs": [
    {
     "data": {
      "text/plain": [
       "False"
      ]
     },
     "execution_count": 8,
     "metadata": {},
     "output_type": "execute_result"
    }
   ],
   "source": [
    "id(bacon) == id(bacon+1)"
   ]
  },
  {
   "cell_type": "code",
   "execution_count": 9,
   "id": "4c466841",
   "metadata": {},
   "outputs": [
    {
     "data": {
      "text/plain": [
       "2059159956464"
      ]
     },
     "execution_count": 9,
     "metadata": {},
     "output_type": "execute_result"
    }
   ],
   "source": [
    "id(23)"
   ]
  },
  {
   "cell_type": "code",
   "execution_count": 10,
   "id": "cb02b618",
   "metadata": {},
   "outputs": [
    {
     "data": {
      "text/plain": [
       "False"
      ]
     },
     "execution_count": 10,
     "metadata": {},
     "output_type": "execute_result"
    }
   ],
   "source": [
    "id(23)==id(bacon)"
   ]
  },
  {
   "cell_type": "code",
   "execution_count": 11,
   "id": "83fc5540",
   "metadata": {},
   "outputs": [
    {
     "data": {
      "text/plain": [
       "True"
      ]
     },
     "execution_count": 11,
     "metadata": {},
     "output_type": "execute_result"
    }
   ],
   "source": [
    "id(23)==id(bacon+1)"
   ]
  },
  {
   "cell_type": "markdown",
   "id": "0934bcb0",
   "metadata": {},
   "source": [
    "## 7. What should the values of the following two terms be? 'spam' + 'spamspam' 'spam' * 3"
   ]
  },
  {
   "cell_type": "markdown",
   "id": "efce10e5",
   "metadata": {},
   "source": [
    "Their values will be the same. Because * applied with string simply concatinated the number of times the integer value used alongside the * operator. ANd + also concatinates strings"
   ]
  },
  {
   "cell_type": "code",
   "execution_count": 12,
   "id": "6c67b61b",
   "metadata": {},
   "outputs": [
    {
     "data": {
      "text/plain": [
       "'spamspamspam'"
      ]
     },
     "execution_count": 12,
     "metadata": {},
     "output_type": "execute_result"
    }
   ],
   "source": [
    "\n",
    "'spam'*3"
   ]
  },
  {
   "cell_type": "code",
   "execution_count": 13,
   "id": "a1b009f5",
   "metadata": {},
   "outputs": [
    {
     "data": {
      "text/plain": [
       "'spamspamspam'"
      ]
     },
     "execution_count": 13,
     "metadata": {},
     "output_type": "execute_result"
    }
   ],
   "source": [
    "'spam'+'spamspam'"
   ]
  },
  {
   "cell_type": "markdown",
   "id": "c34450ab",
   "metadata": {},
   "source": [
    "## 8. Why is eggs a valid variable name while 100 is invalid?"
   ]
  },
  {
   "cell_type": "markdown",
   "id": "0b13d251",
   "metadata": {},
   "source": [
    "Because integers cannot be used in the egginning of a variable name while alphabets can be used"
   ]
  },
  {
   "cell_type": "markdown",
   "id": "3e502037",
   "metadata": {},
   "source": [
    "## 9. What three functions can be used to get the integer, floating-point number, or string version of a value?"
   ]
  },
  {
   "cell_type": "markdown",
   "id": "7251d49a",
   "metadata": {},
   "source": [
    "datatype(var)  -- this format of functoin shall work."
   ]
  },
  {
   "cell_type": "code",
   "execution_count": 14,
   "id": "92aea458",
   "metadata": {},
   "outputs": [],
   "source": [
    "a = 5"
   ]
  },
  {
   "cell_type": "code",
   "execution_count": 15,
   "id": "4eccc252",
   "metadata": {},
   "outputs": [
    {
     "data": {
      "text/plain": [
       "int"
      ]
     },
     "execution_count": 15,
     "metadata": {},
     "output_type": "execute_result"
    }
   ],
   "source": [
    "type(a)"
   ]
  },
  {
   "cell_type": "code",
   "execution_count": 16,
   "id": "e89d41c4",
   "metadata": {},
   "outputs": [
    {
     "data": {
      "text/plain": [
       "'5'"
      ]
     },
     "execution_count": 16,
     "metadata": {},
     "output_type": "execute_result"
    }
   ],
   "source": [
    "#We now get string version\n",
    "\n",
    "a = str(a)\n",
    "a"
   ]
  },
  {
   "cell_type": "code",
   "execution_count": 17,
   "id": "c5fbac75",
   "metadata": {},
   "outputs": [
    {
     "data": {
      "text/plain": [
       "str"
      ]
     },
     "execution_count": 17,
     "metadata": {},
     "output_type": "execute_result"
    }
   ],
   "source": [
    "type(a)"
   ]
  },
  {
   "cell_type": "code",
   "execution_count": 18,
   "id": "6d826f8d",
   "metadata": {},
   "outputs": [
    {
     "data": {
      "text/plain": [
       "5.0"
      ]
     },
     "execution_count": 18,
     "metadata": {},
     "output_type": "execute_result"
    }
   ],
   "source": [
    "#We now get float\n",
    "\n",
    "a = float(a)\n",
    "a"
   ]
  },
  {
   "cell_type": "code",
   "execution_count": 19,
   "id": "bf3c52bf",
   "metadata": {},
   "outputs": [
    {
     "data": {
      "text/plain": [
       "float"
      ]
     },
     "execution_count": 19,
     "metadata": {},
     "output_type": "execute_result"
    }
   ],
   "source": [
    "type(a)"
   ]
  },
  {
   "cell_type": "code",
   "execution_count": 20,
   "id": "76f13f4f",
   "metadata": {},
   "outputs": [
    {
     "data": {
      "text/plain": [
       "5"
      ]
     },
     "execution_count": 20,
     "metadata": {},
     "output_type": "execute_result"
    }
   ],
   "source": [
    "# we change back to int type\n",
    "\n",
    "a = int(a)\n",
    "a"
   ]
  },
  {
   "cell_type": "code",
   "execution_count": 21,
   "id": "cc8cd2ec",
   "metadata": {},
   "outputs": [
    {
     "data": {
      "text/plain": [
       "int"
      ]
     },
     "execution_count": 21,
     "metadata": {},
     "output_type": "execute_result"
    }
   ],
   "source": [
    "type(a)"
   ]
  },
  {
   "cell_type": "code",
   "execution_count": 22,
   "id": "099b5d08",
   "metadata": {},
   "outputs": [],
   "source": [
    "#Remember direct che=angin from srting to int would not hav been possible if the string was taken from a float version like what we have done\n"
   ]
  },
  {
   "cell_type": "markdown",
   "id": "10de4e3f",
   "metadata": {},
   "source": [
    "## 10. Why does this expression cause an error? How can you fix it?\n",
    "'I have eaten' +99+' burritos'"
   ]
  },
  {
   "cell_type": "markdown",
   "id": "c46afc96",
   "metadata": {},
   "source": [
    "This expression throws an error because interpreter is there is  a string at the start so the + sign it thinks shall be a concatenation operator. But then it finds a int variable which is not what concatenation can be applied to. SO we have to convert 99 into string for the concatenation to happen without error."
   ]
  },
  {
   "cell_type": "code",
   "execution_count": 23,
   "id": "243d7b08",
   "metadata": {},
   "outputs": [
    {
     "data": {
      "text/plain": [
       "'I have eaten 99 burritos'"
      ]
     },
     "execution_count": 23,
     "metadata": {},
     "output_type": "execute_result"
    }
   ],
   "source": [
    "'I have eaten ' +str(99)+' burritos'"
   ]
  },
  {
   "cell_type": "code",
   "execution_count": 24,
   "id": "e0f64b66",
   "metadata": {},
   "outputs": [
    {
     "data": {
      "text/plain": [
       "'I have eaten 99 burritos'"
      ]
     },
     "execution_count": 24,
     "metadata": {},
     "output_type": "execute_result"
    }
   ],
   "source": [
    "'I have eaten ' +'99'+' burritos'"
   ]
  },
  {
   "cell_type": "code",
   "execution_count": null,
   "id": "68fe7fcf",
   "metadata": {},
   "outputs": [],
   "source": []
  }
 ],
 "metadata": {
  "kernelspec": {
   "display_name": "Python 3 (ipykernel)",
   "language": "python",
   "name": "python3"
  },
  "language_info": {
   "codemirror_mode": {
    "name": "ipython",
    "version": 3
   },
   "file_extension": ".py",
   "mimetype": "text/x-python",
   "name": "python",
   "nbconvert_exporter": "python",
   "pygments_lexer": "ipython3",
   "version": "3.9.12"
  }
 },
 "nbformat": 4,
 "nbformat_minor": 5
}
