{
 "cells": [
  {
   "cell_type": "markdown",
   "id": "9419d2b8",
   "metadata": {},
   "source": [
    "## WHat is the purpose of Python OOP?"
   ]
  },
  {
   "cell_type": "markdown",
   "id": "a14c4e06",
   "metadata": {},
   "source": [
    "OOP or Object Oriented Programming makes use of packets of code consisting of variables, user inputs and functions. These are called classes. Through object oriented programming we can create these classes and call them by creating instances. With these instances we can insert the desired variables or use the excising variables with the help of inbuilt functions inside the class to get our desired outcomes."
   ]
  },
  {
   "cell_type": "markdown",
   "id": "43d84a59",
   "metadata": {},
   "source": [
    "Example"
   ]
  },
  {
   "cell_type": "code",
   "execution_count": 46,
   "id": "d0b8d00e",
   "metadata": {},
   "outputs": [],
   "source": [
    "class city:\n",
    "    def __init__(self, population, GDP, tech_hub, commerical_hub):\n",
    "        self.p = population\n",
    "        self.gdp = GDP\n",
    "        self.tech_hub = tech_hub\n",
    "        self.ch = commerical_hub\n",
    "        \n",
    "    def tier(self):\n",
    "        if self.p >=10000000 and self.gdp >= 2000000000000 and self.tech_hub == True and self.ch == True:\n",
    "                print(\"Tier 1 City\")\n",
    "                \n",
    "        elif self.p >=5000000 and self.p <10000000 and self.gdp>=500000000000 and self.gdp < 2000000000000 and self.tech_hub == False and self.ch == True:\n",
    "                print(\"Tier 2 City\")\n",
    "                \n",
    "        else:\n",
    "            print(\"Tier 3 City\")"
   ]
  },
  {
   "cell_type": "code",
   "execution_count": 47,
   "id": "94766c0d",
   "metadata": {},
   "outputs": [],
   "source": [
    "mumbai = city(20000000,10000000000000,True,True)"
   ]
  },
  {
   "cell_type": "code",
   "execution_count": 48,
   "id": "68a13524",
   "metadata": {},
   "outputs": [
    {
     "name": "stdout",
     "output_type": "stream",
     "text": [
      "Tier 1 City\n"
     ]
    }
   ],
   "source": [
    "mumbai.tier()"
   ]
  },
  {
   "cell_type": "code",
   "execution_count": null,
   "id": "37e775ec",
   "metadata": {},
   "outputs": [],
   "source": []
  },
  {
   "cell_type": "markdown",
   "id": "341ec5cd",
   "metadata": {},
   "source": [
    "## Where does an inheritance search look for an attribute?"
   ]
  },
  {
   "cell_type": "code",
   "execution_count": null,
   "id": "c4f5bc61",
   "metadata": {},
   "outputs": [],
   "source": []
  },
  {
   "cell_type": "markdown",
   "id": "704c027c",
   "metadata": {},
   "source": [
    "An inheritance search looks for an attribute first at its own instance and then its own class. After that if it is not found there it looks for attribute in its parent class or super class as the case may be."
   ]
  },
  {
   "cell_type": "markdown",
   "id": "a65d11f4",
   "metadata": {},
   "source": [
    "Example:"
   ]
  },
  {
   "cell_type": "code",
   "execution_count": 59,
   "id": "c0ed1090",
   "metadata": {},
   "outputs": [],
   "source": [
    "class brand_owner:\n",
    "    def __init__(self, own_logo, retail_space, employees, franchises):\n",
    "        self.logo = own_logo\n",
    "        self.space = retail_space\n",
    "        self.employees = employees\n",
    "        self.franchises = franchises\n",
    "        \n",
    "        \n",
    "class franchise(brand_owner):\n",
    "    def __init__(self, retail_space, employees):\n",
    "         self.space = retail_space\n",
    "         self.employees = employees\n",
    "        \n"
   ]
  },
  {
   "cell_type": "code",
   "execution_count": 60,
   "id": "557e1999",
   "metadata": {},
   "outputs": [],
   "source": [
    "pepsi = brand_owner(True,True,True,True)"
   ]
  },
  {
   "cell_type": "code",
   "execution_count": 61,
   "id": "d9680c18",
   "metadata": {},
   "outputs": [],
   "source": [
    "varun_beverages = franchise(True,True)"
   ]
  },
  {
   "cell_type": "code",
   "execution_count": 64,
   "id": "0d127c9a",
   "metadata": {},
   "outputs": [
    {
     "data": {
      "text/plain": [
       "True"
      ]
     },
     "execution_count": 64,
     "metadata": {},
     "output_type": "execute_result"
    }
   ],
   "source": [
    "varun_beverages.space"
   ]
  },
  {
   "cell_type": "code",
   "execution_count": 67,
   "id": "66950c49",
   "metadata": {},
   "outputs": [],
   "source": [
    "# varun_beverages.logo gives error"
   ]
  },
  {
   "attachments": {
    "Screenshot%202023-02-07%20155245.png": {
     "image/png": "[encoded data removed]"
    }
   },
   "cell_type": "markdown",
   "id": "dbb4f287",
   "metadata": {},
   "source": [
    "![Screenshot%202023-02-07%20155245.png](attachment:Screenshot%202023-02-07%20155245.png)"
   ]
  },
  {
   "cell_type": "code",
   "execution_count": 68,
   "id": "3977bc85",
   "metadata": {},
   "outputs": [
    {
     "data": {
      "text/plain": [
       "True"
      ]
     },
     "execution_count": 68,
     "metadata": {},
     "output_type": "execute_result"
    }
   ],
   "source": [
    "pepsi.logo"
   ]
  },
  {
   "cell_type": "code",
   "execution_count": null,
   "id": "744e7566",
   "metadata": {},
   "outputs": [],
   "source": []
  },
  {
   "cell_type": "markdown",
   "id": "1517c2f4",
   "metadata": {},
   "source": [
    "## How do you distinguish between a class object and an instance object?"
   ]
  },
  {
   "cell_type": "markdown",
   "id": "64fa9044",
   "metadata": {},
   "source": [
    "A class is a blueprint for creating an instance. If we consider memory as the land class is like a blue print of the building and instance is like the building itself which having the same blue print. An instance has all the variables, inputs and function that have been coded into the class. TO make use of them a \"Class instance\" is created."
   ]
  },
  {
   "cell_type": "markdown",
   "id": "a45772b6",
   "metadata": {},
   "source": [
    "Example: from the previous question we use the city class and instance"
   ]
  },
  {
   "attachments": {
    "Screenshot%202023-02-07%20155842.png": {
     "image/png": "[encoded data removed]"
    }
   },
   "cell_type": "markdown",
   "id": "cf3918d5",
   "metadata": {},
   "source": [
    "![Screenshot%202023-02-07%20155842.png](attachment:Screenshot%202023-02-07%20155842.png)"
   ]
  },
  {
   "cell_type": "markdown",
   "id": "23c6024e",
   "metadata": {},
   "source": [
    "Above you can see the attribute gdp cannot be used from the class because it is in seed form or blueprint form and no memeory has been allocated YET."
   ]
  },
  {
   "cell_type": "code",
   "execution_count": 71,
   "id": "2e6aabde",
   "metadata": {},
   "outputs": [
    {
     "data": {
      "text/plain": [
       "1468802277872"
      ]
     },
     "execution_count": 71,
     "metadata": {},
     "output_type": "execute_result"
    }
   ],
   "source": [
    "id(mumbai.gdp)"
   ]
  },
  {
   "cell_type": "code",
   "execution_count": 72,
   "id": "717d6de1",
   "metadata": {},
   "outputs": [
    {
     "data": {
      "text/plain": [
       "10000000000000"
      ]
     },
     "execution_count": 72,
     "metadata": {},
     "output_type": "execute_result"
    }
   ],
   "source": [
    "mumbai.gdp"
   ]
  },
  {
   "cell_type": "markdown",
   "id": "753a1291",
   "metadata": {},
   "source": [
    "Now mumbai is the instance. See that it has a mempry allocation for attribute gdp and also we can retrieve the value in that address."
   ]
  },
  {
   "cell_type": "code",
   "execution_count": null,
   "id": "c5ee37a2",
   "metadata": {},
   "outputs": [],
   "source": []
  },
  {
   "cell_type": "markdown",
   "id": "d2e88d44",
   "metadata": {},
   "source": [
    "## 4. What makes the first argument in a class’s method function special?"
   ]
  },
  {
   "cell_type": "markdown",
   "id": "6db713cf",
   "metadata": {},
   "source": [
    "The first function becomes special only when it is a constructor. In that case it is used to design all the variables that have to mentioned while creating an instance so that operations can be performed upon them."
   ]
  },
  {
   "cell_type": "code",
   "execution_count": 73,
   "id": "e3a890bf",
   "metadata": {},
   "outputs": [],
   "source": [
    "class brand_owner:\n",
    "    def __init__(self, own_logo, retail_space, employees, franchises):\n",
    "        self.logo = own_logo\n",
    "        self.space = retail_space\n",
    "        self.employees = employees\n",
    "        self.franchises = franchises"
   ]
  },
  {
   "attachments": {
    "Screenshot%202023-02-07%20160304.png": {
     "image/png": "[encoded data removed]"
    }
   },
   "cell_type": "markdown",
   "id": "877f67f6",
   "metadata": {},
   "source": [
    "![Screenshot%202023-02-07%20160304.png](attachment:Screenshot%202023-02-07%20160304.png)"
   ]
  },
  {
   "cell_type": "markdown",
   "id": "d42d52c9",
   "metadata": {},
   "source": [
    "You can see that without mentioning the variable decalred within the constructor (__init))) you can create the instance"
   ]
  },
  {
   "cell_type": "markdown",
   "id": "754edb55",
   "metadata": {},
   "source": [
    "## What is the purpose of the __init__ method?"
   ]
  },
  {
   "cell_type": "markdown",
   "id": "f66293db",
   "metadata": {},
   "source": [
    "AS mentioned in the previous question __init__ is a constructor which gives form to the variables that come alongside every single class instance"
   ]
  },
  {
   "cell_type": "markdown",
   "id": "a87f0a9e",
   "metadata": {},
   "source": [
    "## Q6. What is the process for creating a class instance?"
   ]
  },
  {
   "cell_type": "markdown",
   "id": "b2c285c8",
   "metadata": {},
   "source": [
    "ONce you have created a class You can create an instance with the following syntax of code:"
   ]
  },
  {
   "cell_type": "markdown",
   "id": "56346eb0",
   "metadata": {},
   "source": [
    "'instance name' = 'class name' followed by \"()\""
   ]
  },
  {
   "cell_type": "markdown",
   "id": "96a03cd6",
   "metadata": {},
   "source": [
    "Example:"
   ]
  },
  {
   "cell_type": "code",
   "execution_count": 75,
   "id": "1d0a4a8e",
   "metadata": {},
   "outputs": [],
   "source": [
    "class city:\n",
    "    def __init__(self, population, GDP, tech_hub, commerical_hub):\n",
    "        self.p = population\n",
    "        self.gdp = GDP\n",
    "        self.tech_hub = tech_hub\n",
    "        self.ch = commerical_hub"
   ]
  },
  {
   "cell_type": "code",
   "execution_count": 77,
   "id": "14d784bb",
   "metadata": {},
   "outputs": [],
   "source": [
    "delhi = city(15217000,16000000000000,True,True)"
   ]
  },
  {
   "cell_type": "markdown",
   "id": "50296293",
   "metadata": {},
   "source": [
    "## Q7. What is the process for creating a class?"
   ]
  },
  {
   "cell_type": "markdown",
   "id": "88a4b2f4",
   "metadata": {},
   "source": [
    "TO create class we use the following syntax:"
   ]
  },
  {
   "cell_type": "markdown",
   "id": "3fd5bdaf",
   "metadata": {},
   "source": [
    "class followed by space followed by class name followed by colon"
   ]
  },
  {
   "cell_type": "code",
   "execution_count": 78,
   "id": "21744b04",
   "metadata": {},
   "outputs": [],
   "source": [
    "class example:\n",
    "    pass"
   ]
  },
  {
   "cell_type": "markdown",
   "id": "12302857",
   "metadata": {},
   "source": [
    "## Q8. How would you define the superclasses of a class?"
   ]
  },
  {
   "cell_type": "markdown",
   "id": "5c2b1ff1",
   "metadata": {},
   "source": [
    "A superclass of a class is that class which contain all the possible variables, attr=ributes and function that you can use in that class."
   ]
  },
  {
   "cell_type": "markdown",
   "id": "3e0bd508",
   "metadata": {},
   "source": [
    "Example:"
   ]
  },
  {
   "cell_type": "code",
   "execution_count": 80,
   "id": "3f9c23b9",
   "metadata": {},
   "outputs": [
    {
     "name": "stdout",
     "output_type": "stream",
     "text": [
      "<__main__.example object at 0x00000155FB7930A0>\n"
     ]
    }
   ],
   "source": [
    "print(example())"
   ]
  },
  {
   "cell_type": "markdown",
   "id": "532bdd0a",
   "metadata": {},
   "source": [
    "Here \"main\" is the super class of any class created in python by default."
   ]
  },
  {
   "cell_type": "code",
   "execution_count": 82,
   "id": "4286eace",
   "metadata": {},
   "outputs": [
    {
     "name": "stdout",
     "output_type": "stream",
     "text": [
      "<__main__.brand_owner object at 0x00000155FB788280>\n"
     ]
    }
   ],
   "source": [
    "print(brand_owner(True,True,True,True))"
   ]
  },
  {
   "cell_type": "code",
   "execution_count": 81,
   "id": "51e9c515",
   "metadata": {},
   "outputs": [
    {
     "name": "stdout",
     "output_type": "stream",
     "text": [
      "<__main__.franchise object at 0x00000155FB6F7400>\n"
     ]
    }
   ],
   "source": [
    "print(franchise(True, True))"
   ]
  },
  {
   "cell_type": "markdown",
   "id": "d054490c",
   "metadata": {},
   "source": [
    "THe above example shows that parent class and child class both belong to main superclass"
   ]
  },
  {
   "cell_type": "code",
   "execution_count": null,
   "id": "4e0b30e6",
   "metadata": {},
   "outputs": [],
   "source": []
  }
 ],
 "metadata": {
  "kernelspec": {
   "display_name": "Python 3 (ipykernel)",
   "language": "python",
   "name": "python3"
  },
  "language_info": {
   "codemirror_mode": {
    "name": "ipython",
    "version": 3
   },
   "file_extension": ".py",
   "mimetype": "text/x-python",
   "name": "python",
   "nbconvert_exporter": "python",
   "pygments_lexer": "ipython3",
   "version": "3.9.12"
  }
 },
 "nbformat": 4,
 "nbformat_minor": 5
}
