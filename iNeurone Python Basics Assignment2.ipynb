{
 "cells": [
  {
   "cell_type": "markdown",
   "id": "69cce0de",
   "metadata": {},
   "source": [
    "1.What are the two values of the Boolean data type? How do you write them?\n",
    "2. What are the three different types of Boolean operators?\n",
    "3. Make a list of each Boolean operator&#39;s truth tables (i.e. every possible combination of Boolean\n",
    "values for the operator and what it evaluate ).\n",
    "4. What are the values of the following expressions?\n",
    "(5 &gt; 4) and (3 == 5)\n",
    "not (5 &gt; 4)\n",
    "(5 &gt; 4) or (3 == 5)\n",
    "not ((5 &gt; 4) or (3 == 5))\n",
    "(True and True) and (True == False)\n",
    "(not False) or (not True)\n",
    "5. What are the six comparison operators?\n",
    "6. How do you tell the difference between the equal to and assignment operators?Describe a\n",
    "condition and when you would use one.\n",
    "7. Identify the three blocks in this code:\n",
    "spam = 0\n",
    "if spam == 10:\n",
    "print(&#39;eggs&#39;)\n",
    "if spam &gt; 5:\n",
    "print(&#39;bacon&#39;)\n",
    "else:\n",
    "print(&#39;ham&#39;)\n",
    "print(&#39;spam&#39;)\n",
    "print(&#39;spam&#39;)\n",
    "8. Write code that prints Hello if 1 is stored in spam, prints Howdy if 2 is stored in spam, and prints\n",
    "Greetings! if anything else is stored in spam."
   ]
  },
  {
   "cell_type": "markdown",
   "id": "aaedac53",
   "metadata": {},
   "source": [
    "## 1.What are the two values of the Boolean data type? How do you write them?"
   ]
  },
  {
   "cell_type": "markdown",
   "id": "39719523",
   "metadata": {},
   "source": [
    "The two values of boolean data are : 1(True) and 0(False)\n",
    "    \n",
    "We write them in either manner. We can also get them as an outcome of comparision or verification operations.\n",
    "    \n",
    "Let us see some examples"
   ]
  },
  {
   "cell_type": "code",
   "execution_count": 1,
   "id": "9d141eb3",
   "metadata": {},
   "outputs": [
    {
     "data": {
      "text/plain": [
       "False"
      ]
     },
     "execution_count": 1,
     "metadata": {},
     "output_type": "execute_result"
    }
   ],
   "source": [
    "#comparision\n",
    "\n",
    "(5==4)"
   ]
  },
  {
   "cell_type": "code",
   "execution_count": 2,
   "id": "619da41a",
   "metadata": {},
   "outputs": [
    {
     "data": {
      "text/plain": [
       "True"
      ]
     },
     "execution_count": 2,
     "metadata": {},
     "output_type": "execute_result"
    }
   ],
   "source": [
    "#Because false means 0\n",
    "(5==4)==0\n"
   ]
  },
  {
   "cell_type": "code",
   "execution_count": 3,
   "id": "1bc5e35d",
   "metadata": {},
   "outputs": [
    {
     "data": {
      "text/plain": [
       "True"
      ]
     },
     "execution_count": 3,
     "metadata": {},
     "output_type": "execute_result"
    }
   ],
   "source": [
    "((5==4)==0)==1"
   ]
  },
  {
   "cell_type": "code",
   "execution_count": 4,
   "id": "af8d64f3",
   "metadata": {},
   "outputs": [
    {
     "data": {
      "text/plain": [
       "False"
      ]
     },
     "execution_count": 4,
     "metadata": {},
     "output_type": "execute_result"
    }
   ],
   "source": [
    "((5==4)==0)==0"
   ]
  },
  {
   "cell_type": "code",
   "execution_count": 5,
   "id": "b65ed0b0",
   "metadata": {},
   "outputs": [
    {
     "data": {
      "text/plain": [
       "False"
      ]
     },
     "execution_count": 5,
     "metadata": {},
     "output_type": "execute_result"
    }
   ],
   "source": [
    "# verification\n",
    "\n",
    "type('5')==int"
   ]
  },
  {
   "cell_type": "code",
   "execution_count": 6,
   "id": "36f0190b",
   "metadata": {},
   "outputs": [
    {
     "data": {
      "text/plain": [
       "True"
      ]
     },
     "execution_count": 6,
     "metadata": {},
     "output_type": "execute_result"
    }
   ],
   "source": [
    "5==5"
   ]
  },
  {
   "cell_type": "code",
   "execution_count": 7,
   "id": "0e9d5fa3",
   "metadata": {},
   "outputs": [
    {
     "data": {
      "text/plain": [
       "True"
      ]
     },
     "execution_count": 7,
     "metadata": {},
     "output_type": "execute_result"
    }
   ],
   "source": [
    "type(5)==int"
   ]
  },
  {
   "cell_type": "markdown",
   "id": "e1a1de35",
   "metadata": {},
   "source": [
    "## 2. What are the three different types of Boolean operators?"
   ]
  },
  {
   "cell_type": "markdown",
   "id": "0fcac091",
   "metadata": {},
   "source": [
    "AND, OR, NOT"
   ]
  },
  {
   "cell_type": "markdown",
   "id": "916b5b6f",
   "metadata": {},
   "source": [
    "## 3 Make a list of each Boolean operator's truth tables (i.e. every possible combination of Boolean values for the operator and what it evaluate )."
   ]
  },
  {
   "attachments": {
    "ineurone%20assgnment2.png": {
     "image/png": "[encoded data removed]"
    }
   },
   "cell_type": "markdown",
   "id": "f58174a1",
   "metadata": {},
   "source": [
    "![ineurone%20assgnment2.png](attachment:ineurone%20assgnment2.png)"
   ]
  },
  {
   "cell_type": "markdown",
   "id": "1b295b81",
   "metadata": {},
   "source": []
  },
  {
   "cell_type": "markdown",
   "id": "24dcd920",
   "metadata": {},
   "source": [
    "## 4. What are the values of the following expressions?\n",
    "\n",
    "(5 > 4) and (3 == 5)\n",
    "\n",
    "not (5 > 4)\n",
    "\n",
    "(5 > 4) or (3 == 5)\n",
    "\n",
    "not ((5 > 4) or (3 == 5))\n",
    "\n",
    "(True and True) and (True == False)\n",
    "\n",
    "(not False) or (not True)"
   ]
  },
  {
   "attachments": {},
   "cell_type": "markdown",
   "id": "4589d1eb",
   "metadata": {},
   "source": []
  },
  {
   "cell_type": "code",
   "execution_count": 8,
   "id": "b79d01b5",
   "metadata": {},
   "outputs": [
    {
     "data": {
      "text/plain": [
       "False"
      ]
     },
     "execution_count": 8,
     "metadata": {},
     "output_type": "execute_result"
    }
   ],
   "source": [
    "False #(5 > 4) and (3 == 5)"
   ]
  },
  {
   "cell_type": "code",
   "execution_count": 9,
   "id": "fe300d8e",
   "metadata": {},
   "outputs": [
    {
     "data": {
      "text/plain": [
       "False"
      ]
     },
     "execution_count": 9,
     "metadata": {},
     "output_type": "execute_result"
    }
   ],
   "source": [
    "False #not (5 > 4)"
   ]
  },
  {
   "cell_type": "code",
   "execution_count": 10,
   "id": "70e301f9",
   "metadata": {},
   "outputs": [
    {
     "data": {
      "text/plain": [
       "True"
      ]
     },
     "execution_count": 10,
     "metadata": {},
     "output_type": "execute_result"
    }
   ],
   "source": [
    "True #(5 > 4) or (3 == 5)"
   ]
  },
  {
   "cell_type": "code",
   "execution_count": 11,
   "id": "db37b193",
   "metadata": {},
   "outputs": [
    {
     "data": {
      "text/plain": [
       "False"
      ]
     },
     "execution_count": 11,
     "metadata": {},
     "output_type": "execute_result"
    }
   ],
   "source": [
    "False #not ((5 > 4) or (3 == 5))"
   ]
  },
  {
   "cell_type": "code",
   "execution_count": 12,
   "id": "4ec3365c",
   "metadata": {},
   "outputs": [
    {
     "data": {
      "text/plain": [
       "False"
      ]
     },
     "execution_count": 12,
     "metadata": {},
     "output_type": "execute_result"
    }
   ],
   "source": [
    "False #(True and True) and (True == False)"
   ]
  },
  {
   "cell_type": "code",
   "execution_count": 13,
   "id": "a9f19d9c",
   "metadata": {},
   "outputs": [
    {
     "data": {
      "text/plain": [
       "True"
      ]
     },
     "execution_count": 13,
     "metadata": {},
     "output_type": "execute_result"
    }
   ],
   "source": [
    "True #(not False) or (not True)"
   ]
  },
  {
   "cell_type": "markdown",
   "id": "9128d21e",
   "metadata": {},
   "source": [
    "## 5. What are the six comparison operators?"
   ]
  },
  {
   "cell_type": "markdown",
   "id": "da710263",
   "metadata": {},
   "source": [
    "Equal to (==): Checks if LHS is equal to RHS"
   ]
  },
  {
   "cell_type": "code",
   "execution_count": 14,
   "id": "944bd573",
   "metadata": {},
   "outputs": [
    {
     "data": {
      "text/plain": [
       "False"
      ]
     },
     "execution_count": 14,
     "metadata": {},
     "output_type": "execute_result"
    }
   ],
   "source": [
    "2==3"
   ]
  },
  {
   "cell_type": "code",
   "execution_count": 15,
   "id": "c9fb5c92",
   "metadata": {},
   "outputs": [
    {
     "data": {
      "text/plain": [
       "True"
      ]
     },
     "execution_count": 15,
     "metadata": {},
     "output_type": "execute_result"
    }
   ],
   "source": [
    "3==3"
   ]
  },
  {
   "cell_type": "markdown",
   "id": "bf5add9a",
   "metadata": {},
   "source": [
    "NOt Equal to (!=): Checks if LHS is NOT equal to RHS"
   ]
  },
  {
   "cell_type": "code",
   "execution_count": 16,
   "id": "aa2222ca",
   "metadata": {},
   "outputs": [
    {
     "data": {
      "text/plain": [
       "True"
      ]
     },
     "execution_count": 16,
     "metadata": {},
     "output_type": "execute_result"
    }
   ],
   "source": [
    "5!=4"
   ]
  },
  {
   "cell_type": "code",
   "execution_count": 17,
   "id": "fbb2f2c7",
   "metadata": {},
   "outputs": [
    {
     "data": {
      "text/plain": [
       "False"
      ]
     },
     "execution_count": 17,
     "metadata": {},
     "output_type": "execute_result"
    }
   ],
   "source": [
    "4!=4"
   ]
  },
  {
   "cell_type": "markdown",
   "id": "3207e1f9",
   "metadata": {},
   "source": [
    "Greater than (>): Checks is LHS is greater than RHS"
   ]
  },
  {
   "cell_type": "code",
   "execution_count": 18,
   "id": "016b7e23",
   "metadata": {},
   "outputs": [
    {
     "data": {
      "text/plain": [
       "True"
      ]
     },
     "execution_count": 18,
     "metadata": {},
     "output_type": "execute_result"
    }
   ],
   "source": [
    "5>4"
   ]
  },
  {
   "cell_type": "code",
   "execution_count": 19,
   "id": "cc197eea",
   "metadata": {},
   "outputs": [
    {
     "data": {
      "text/plain": [
       "False"
      ]
     },
     "execution_count": 19,
     "metadata": {},
     "output_type": "execute_result"
    }
   ],
   "source": [
    "4>5"
   ]
  },
  {
   "cell_type": "markdown",
   "id": "d9a6e96d",
   "metadata": {},
   "source": [
    "Less than(<): Checks if LHS is less than RHS"
   ]
  },
  {
   "cell_type": "code",
   "execution_count": 20,
   "id": "60a1f4fb",
   "metadata": {},
   "outputs": [
    {
     "data": {
      "text/plain": [
       "True"
      ]
     },
     "execution_count": 20,
     "metadata": {},
     "output_type": "execute_result"
    }
   ],
   "source": [
    "2<3"
   ]
  },
  {
   "cell_type": "code",
   "execution_count": 21,
   "id": "8c44a957",
   "metadata": {},
   "outputs": [
    {
     "data": {
      "text/plain": [
       "False"
      ]
     },
     "execution_count": 21,
     "metadata": {},
     "output_type": "execute_result"
    }
   ],
   "source": [
    "3<2"
   ]
  },
  {
   "cell_type": "markdown",
   "id": "ee7d803b",
   "metadata": {},
   "source": [
    "Greater than or Equal to (>=): Checks if LHS is greater than or Equal to RHS"
   ]
  },
  {
   "cell_type": "code",
   "execution_count": 22,
   "id": "02d82c7c",
   "metadata": {},
   "outputs": [
    {
     "data": {
      "text/plain": [
       "True"
      ]
     },
     "execution_count": 22,
     "metadata": {},
     "output_type": "execute_result"
    }
   ],
   "source": [
    "3>=1"
   ]
  },
  {
   "cell_type": "code",
   "execution_count": 23,
   "id": "910f4ef9",
   "metadata": {},
   "outputs": [
    {
     "data": {
      "text/plain": [
       "False"
      ]
     },
     "execution_count": 23,
     "metadata": {},
     "output_type": "execute_result"
    }
   ],
   "source": [
    "1>=5"
   ]
  },
  {
   "cell_type": "markdown",
   "id": "610737c5",
   "metadata": {},
   "source": [
    "Less than or Equal to (<=): Checks is LHS is less than or equal to RHS"
   ]
  },
  {
   "cell_type": "code",
   "execution_count": 24,
   "id": "53cefe5f",
   "metadata": {},
   "outputs": [
    {
     "data": {
      "text/plain": [
       "True"
      ]
     },
     "execution_count": 24,
     "metadata": {},
     "output_type": "execute_result"
    }
   ],
   "source": [
    "2<=5"
   ]
  },
  {
   "cell_type": "code",
   "execution_count": 25,
   "id": "e46212c2",
   "metadata": {},
   "outputs": [
    {
     "data": {
      "text/plain": [
       "False"
      ]
     },
     "execution_count": 25,
     "metadata": {},
     "output_type": "execute_result"
    }
   ],
   "source": [
    "7<=5"
   ]
  },
  {
   "cell_type": "markdown",
   "id": "c2576e49",
   "metadata": {},
   "source": [
    "## 6. How do you tell the difference between the equal to and assignment operators?Describe a condition and when you would use one."
   ]
  },
  {
   "cell_type": "markdown",
   "id": "0d8b4d92",
   "metadata": {},
   "source": [
    "Difference between the assignment operator and the comparision operator for \"EQUAL TO\" are:\n",
    "    \n",
    "    1. comparision equal only compares to piece of data it never asigns any variable to them. while assignment equal to operation only assigns value to a variable nver comares the data and the variable.\n",
    "    \n",
    "    2. comparision equal has 2 equal signs: ==.\n",
    "        assigment equal to has one equal sign : = .\n",
    "            \n",
    "    Example:"
   ]
  },
  {
   "cell_type": "markdown",
   "id": "c8d5dd92",
   "metadata": {},
   "source": [
    "Assigment:"
   ]
  },
  {
   "cell_type": "code",
   "execution_count": 26,
   "id": "687ea8db",
   "metadata": {},
   "outputs": [],
   "source": [
    "a = 5\n",
    "b = 6\n",
    "\n",
    "#We are just storing values 5 and 6 (int) in memeory and assigning names  a and b\n",
    "#respectively to those memory spaces."
   ]
  },
  {
   "cell_type": "markdown",
   "id": "96d06e01",
   "metadata": {},
   "source": [
    "Comparision:"
   ]
  },
  {
   "cell_type": "code",
   "execution_count": 27,
   "id": "27514ce5",
   "metadata": {},
   "outputs": [
    {
     "data": {
      "text/plain": [
       "False"
      ]
     },
     "execution_count": 27,
     "metadata": {},
     "output_type": "execute_result"
    }
   ],
   "source": [
    "a==b  \n",
    "#We are checking whetherLHS is equal to RHS. No re-assignemtn is happening here. \n",
    "#a and b remain just the same as assigned beofre."
   ]
  },
  {
   "cell_type": "markdown",
   "id": "e6259bd6",
   "metadata": {},
   "source": [
    "## 7. Identify the three blocks in this code:"
   ]
  },
  {
   "attachments": {
    "Assgnment%202%20PB%20Q7.png": {
     "image/png": "[encoded data removed]"
    }
   },
   "cell_type": "markdown",
   "id": "b294e815",
   "metadata": {},
   "source": [
    "![Assgnment%202%20PB%20Q7.png](attachment:Assgnment%202%20PB%20Q7.png)"
   ]
  },
  {
   "cell_type": "markdown",
   "id": "258b95f8",
   "metadata": {},
   "source": [
    "THe three blocks are the three indentation errors : line 3, line 5 and line 7"
   ]
  },
  {
   "attachments": {
    "Assgnment%202%20PB%20Q7.png": {
     "image/png": "[encoded data removed]"
    }
   },
   "cell_type": "markdown",
   "id": "44ff5d13",
   "metadata": {},
   "source": [
    "![Assgnment%202%20PB%20Q7.png](attachment:Assgnment%202%20PB%20Q7.png)"
   ]
  },
  {
   "cell_type": "markdown",
   "id": "c69902ef",
   "metadata": {},
   "source": [
    "## 8. Write code that prints Hello if 1 is stored in spam, prints Howdy if 2 is stored in spam, and prints Greetings! if anything else is stored in spam."
   ]
  },
  {
   "cell_type": "code",
   "execution_count": 28,
   "id": "709086da",
   "metadata": {},
   "outputs": [
    {
     "name": "stdout",
     "output_type": "stream",
     "text": [
      "Hello\n"
     ]
    }
   ],
   "source": [
    "spam = 1\n",
    "\n",
    "if spam == 1:\n",
    "    print(\"Hello\")\n",
    "    \n",
    "elif spam ==2:\n",
    "    print(\"Howdy\")\n",
    "else:\n",
    "    print(\"Greetings!\")\n"
   ]
  },
  {
   "cell_type": "code",
   "execution_count": 29,
   "id": "4b0a90b0",
   "metadata": {},
   "outputs": [
    {
     "name": "stdout",
     "output_type": "stream",
     "text": [
      "Howdy\n"
     ]
    }
   ],
   "source": [
    "spam = 2\n",
    "\n",
    "if spam == 1:\n",
    "    print(\"Hello\")\n",
    "    \n",
    "elif spam ==2:\n",
    "    print(\"Howdy\")\n",
    "else:\n",
    "    print(\"Greetings!\")"
   ]
  },
  {
   "cell_type": "code",
   "execution_count": 30,
   "id": "ee7716f7",
   "metadata": {},
   "outputs": [
    {
     "name": "stdout",
     "output_type": "stream",
     "text": [
      "Greetings!\n"
     ]
    }
   ],
   "source": [
    "spam = 3\n",
    "\n",
    "if spam == 1:\n",
    "    print(\"Hello\")\n",
    "    \n",
    "elif spam ==2:\n",
    "    print(\"Howdy\")\n",
    "else:\n",
    "    print(\"Greetings!\")"
   ]
  },
  {
   "cell_type": "markdown",
   "id": "c348ec51",
   "metadata": {},
   "source": [
    "##  9.If your programme is stuck in an endless loop, what keys you’ll press?"
   ]
  },
  {
   "cell_type": "markdown",
   "id": "4abb403d",
   "metadata": {},
   "source": [
    "Control + C"
   ]
  },
  {
   "cell_type": "markdown",
   "id": "dd86e553",
   "metadata": {},
   "source": [
    "## 10. How can you tell the difference between break and continue?"
   ]
  },
  {
   "cell_type": "markdown",
   "id": "6df81d5d",
   "metadata": {},
   "source": [
    "break takes the cursor out of a loop and the iterations stop then and there. continue on the other hand never stope the loop it only skips the code after  its location and takes the cursor to the next iteration of the loop"
   ]
  },
  {
   "cell_type": "code",
   "execution_count": 31,
   "id": "f037ca44",
   "metadata": {},
   "outputs": [
    {
     "name": "stdout",
     "output_type": "stream",
     "text": [
      "1\n",
      "2\n",
      "3\n",
      "4\n",
      "6\n",
      "7\n",
      "8\n",
      "9\n"
     ]
    }
   ],
   "source": [
    "l = [1,2,3,4,5,6,7,8,9]\n",
    "\n",
    "for i in l:   \n",
    "    if i==5:\n",
    "         continue\n",
    "    print(i)\n",
    "    \n",
    "    #this code will skip 5 and continue all## the iterations after that"
   ]
  },
  {
   "cell_type": "code",
   "execution_count": 32,
   "id": "ac69beff",
   "metadata": {},
   "outputs": [
    {
     "name": "stdout",
     "output_type": "stream",
     "text": [
      "1\n",
      "2\n",
      "3\n",
      "4\n"
     ]
    }
   ],
   "source": [
    "for i in l:   \n",
    "    if i==5:\n",
    "         break\n",
    "    print(i)\n",
    "    \n",
    "    \n",
    "    #this code will not print anything after 4 iterations"
   ]
  },
  {
   "cell_type": "markdown",
   "id": "193dc515",
   "metadata": {},
   "source": [
    "## 11. In a for loop, what is the difference between range(10), range(0, 10), and range(0, 10, 1)?"
   ]
  },
  {
   "cell_type": "markdown",
   "id": "b8c2cc18",
   "metadata": {},
   "source": [
    "They all mean the same thing : for a for loop range signature looks somewhat like this range(start, end-1, steps). THe default value for start and steps are 0 and 1 respectively. So range(10)==range(0,10) ==range(0,10,1)"
   ]
  },
  {
   "cell_type": "code",
   "execution_count": 33,
   "id": "68bfd105",
   "metadata": {},
   "outputs": [
    {
     "name": "stdout",
     "output_type": "stream",
     "text": [
      "0\n",
      "1\n",
      "2\n",
      "3\n",
      "4\n",
      "5\n",
      "6\n",
      "7\n",
      "8\n",
      "9\n"
     ]
    }
   ],
   "source": [
    "for i in range(10):\n",
    "    print(i)"
   ]
  },
  {
   "cell_type": "code",
   "execution_count": 34,
   "id": "61e5bb76",
   "metadata": {},
   "outputs": [
    {
     "name": "stdout",
     "output_type": "stream",
     "text": [
      "0\n",
      "1\n",
      "2\n",
      "3\n",
      "4\n",
      "5\n",
      "6\n",
      "7\n",
      "8\n",
      "9\n"
     ]
    }
   ],
   "source": [
    "for i in range(0,10):\n",
    "    print(i)"
   ]
  },
  {
   "cell_type": "code",
   "execution_count": 35,
   "id": "257ba249",
   "metadata": {},
   "outputs": [
    {
     "name": "stdout",
     "output_type": "stream",
     "text": [
      "0\n",
      "1\n",
      "2\n",
      "3\n",
      "4\n",
      "5\n",
      "6\n",
      "7\n",
      "8\n",
      "9\n"
     ]
    }
   ],
   "source": [
    "for i in range(0,10,1):\n",
    "    print(i)"
   ]
  },
  {
   "cell_type": "markdown",
   "id": "8d9a9ffa",
   "metadata": {},
   "source": [
    "## 12. Write a short program that prints the numbers 1 to 10 using a for loop. Then write an equivalent program that prints the numbers 1 to 10 using a while loop."
   ]
  },
  {
   "cell_type": "code",
   "execution_count": 36,
   "id": "fada7d31",
   "metadata": {},
   "outputs": [
    {
     "name": "stdout",
     "output_type": "stream",
     "text": [
      "1\n",
      "2\n",
      "3\n",
      "4\n",
      "5\n",
      "6\n",
      "7\n",
      "8\n",
      "9\n",
      "10\n"
     ]
    }
   ],
   "source": [
    "for i in range(1,11,1):\n",
    "    print(i)"
   ]
  },
  {
   "cell_type": "code",
   "execution_count": 37,
   "id": "e08ad304",
   "metadata": {},
   "outputs": [
    {
     "name": "stdout",
     "output_type": "stream",
     "text": [
      "1\n",
      "2\n",
      "3\n",
      "4\n",
      "5\n",
      "6\n",
      "7\n",
      "8\n",
      "9\n",
      "10\n"
     ]
    }
   ],
   "source": [
    "i=1\n",
    "\n",
    "while i < 11:\n",
    "    print(i)\n",
    "    i+=1"
   ]
  },
  {
   "cell_type": "markdown",
   "id": "8421052d",
   "metadata": {},
   "source": [
    "## If you had a function named bacon() inside a module named spam, how would you call it after importing spam?"
   ]
  },
  {
   "cell_type": "markdown",
   "id": "c2fc223b",
   "metadata": {},
   "source": [
    "import spam\n",
    "\n",
    "spam.bacon()"
   ]
  },
  {
   "cell_type": "code",
   "execution_count": null,
   "id": "be69a509",
   "metadata": {},
   "outputs": [],
   "source": []
  }
 ],
 "metadata": {
  "kernelspec": {
   "display_name": "Python 3 (ipykernel)",
   "language": "python",
   "name": "python3"
  },
  "language_info": {
   "codemirror_mode": {
    "name": "ipython",
    "version": 3
   },
   "file_extension": ".py",
   "mimetype": "text/x-python",
   "name": "python",
   "nbconvert_exporter": "python",
   "pygments_lexer": "ipython3",
   "version": "3.9.12"
  }
 },
 "nbformat": 4,
 "nbformat_minor": 5
}
